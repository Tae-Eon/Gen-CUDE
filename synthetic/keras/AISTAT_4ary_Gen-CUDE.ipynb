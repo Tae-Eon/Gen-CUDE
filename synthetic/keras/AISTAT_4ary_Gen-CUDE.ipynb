{
 "cells": [
  {
   "cell_type": "code",
   "execution_count": 1,
   "metadata": {},
   "outputs": [
    {
     "name": "stderr",
     "output_type": "stream",
     "text": [
      "Using TensorFlow backend.\n"
     ]
    }
   ],
   "source": [
    "from utils import *\n",
    "import tensorflow as tf\n",
    "\n",
    "import keras\n",
    "from keras import layers\n",
    "from keras import models\n",
    "from keras import optimizers\n",
    "from keras.utils import np_utils        \n",
    "from torch.utils.data import TensorDataset \n",
    "\n",
    "\n",
    "import os\n",
    "import sympy as sp\n",
    "from sympy import exp, sqrt, pi, Integral, Symbol\n",
    "import time\n",
    "from scipy.io import savemat\n",
    "\n",
    "\n",
    "import matplotlib.pyplot as plt"
   ]
  },
  {
   "cell_type": "code",
   "execution_count": 2,
   "metadata": {},
   "outputs": [],
   "source": [
    "seed_value = 0\n",
    "set_seed(seed_value)"
   ]
  },
  {
   "cell_type": "code",
   "execution_count": 3,
   "metadata": {},
   "outputs": [],
   "source": [
    "# make folder to save results\n",
    "experiment_directory_name = '4ary'\n",
    "if not os.path.isdir('./'+experiment_directory_name):\n",
    "    os.mkdir('./'+experiment_directory_name)"
   ]
  },
  {
   "cell_type": "code",
   "execution_count": 4,
   "metadata": {},
   "outputs": [],
   "source": [
    "# Generate Data"
   ]
  },
  {
   "cell_type": "code",
   "execution_count": 5,
   "metadata": {},
   "outputs": [],
   "source": [
    "data_n = int(3e6)\n",
    "sigma=1.0\n",
    "nb_x_classes = 4\n",
    "nb_z_classes = 4\n",
    "transition_prob = 0.1"
   ]
  },
  {
   "cell_type": "code",
   "execution_count": 6,
   "metadata": {},
   "outputs": [
    {
     "name": "stdout",
     "output_type": "stream",
     "text": [
      "[-3 -1  1  3]\n"
     ]
    }
   ],
   "source": [
    "db = decision_boundary(nb_z_classes)\n",
    "print(db)"
   ]
  },
  {
   "cell_type": "code",
   "execution_count": 7,
   "metadata": {},
   "outputs": [
    {
     "name": "stdout",
     "output_type": "stream",
     "text": [
      "[[0.9        0.03333333 0.03333333 0.03333333]\n",
      " [0.03333333 0.9        0.03333333 0.03333333]\n",
      " [0.03333333 0.03333333 0.9        0.03333333]\n",
      " [0.03333333 0.03333333 0.03333333 0.9       ]]\n"
     ]
    }
   ],
   "source": [
    "a = sym_mat(nb_x_classes, transition_prob)\n",
    "print(a)"
   ]
  },
  {
   "cell_type": "code",
   "execution_count": 8,
   "metadata": {},
   "outputs": [
    {
     "name": "stdout",
     "output_type": "stream",
     "text": [
      "[ 1  1  1  1  1  1 -3 -3 -3 -3]\n"
     ]
    }
   ],
   "source": [
    "discrete_x_denoising = source_generator_v2(data_n, a)  \n",
    "print(discrete_x_denoising[10:20])"
   ]
  },
  {
   "cell_type": "code",
   "execution_count": 9,
   "metadata": {},
   "outputs": [
    {
     "name": "stdout",
     "output_type": "stream",
     "text": [
      "[-0.12  0.51  2.24  1.49  1.84  0.58 -2.2  -3.68 -2.59 -2.99]\n"
     ]
    }
   ],
   "source": [
    "noisy_y_denoising = np.round(con_noisy_awgn(discrete_x_denoising,sigma) , 2 ) # upto two decimal point\n",
    "print(noisy_y_denoising[10:20])"
   ]
  },
  {
   "cell_type": "code",
   "execution_count": 10,
   "metadata": {},
   "outputs": [
    {
     "name": "stdout",
     "output_type": "stream",
     "text": [
      "[-1  1  3  1  1  1 -3 -3 -3 -3]\n"
     ]
    }
   ],
   "source": [
    "quantized_z_denoising = find_nearest_integer(noisy_y_denoising, nb_z_classes)\n",
    "print(quantized_z_denoising[10:20])"
   ]
  },
  {
   "cell_type": "code",
   "execution_count": 11,
   "metadata": {},
   "outputs": [
    {
     "name": "stdout",
     "output_type": "stream",
     "text": [
      "-7.8\n",
      "7.62\n"
     ]
    }
   ],
   "source": [
    "print(min(noisy_y_denoising))\n",
    "print(max(noisy_y_denoising))"
   ]
  },
  {
   "cell_type": "code",
   "execution_count": 12,
   "metadata": {},
   "outputs": [
    {
     "name": "stdout",
     "output_type": "stream",
     "text": [
      "Data length :  3000000\n",
      "error_rate(x vs z) :  0.23839433333333335\n"
     ]
    }
   ],
   "source": [
    "print( 'Data length : ', len(discrete_x_denoising) )\n",
    "error_x_z = error_rate(discrete_x_denoising, quantized_z_denoising)\n",
    "print('error_rate(x vs z) : ' , error_x_z)"
   ]
  },
  {
   "cell_type": "markdown",
   "metadata": {},
   "source": [
    "# Channel"
   ]
  },
  {
   "cell_type": "code",
   "execution_count": 13,
   "metadata": {},
   "outputs": [],
   "source": [
    "# induced channel matrix"
   ]
  },
  {
   "cell_type": "code",
   "execution_count": 14,
   "metadata": {},
   "outputs": [
    {
     "name": "stdout",
     "output_type": "stream",
     "text": [
      "proceeding..\n",
      "proceeding..\n",
      "proceeding..\n",
      "proceeding..\n",
      "[[8.41344746e-01 1.57305356e-01 1.34961138e-03 2.86651572e-07]\n",
      " [1.58655254e-01 6.82689492e-01 1.57305356e-01 1.34989803e-03]\n",
      " [1.34989803e-03 1.57305356e-01 6.82689492e-01 1.58655254e-01]\n",
      " [2.86651572e-07 1.34961138e-03 1.57305356e-01 8.41344746e-01]]\n",
      "[[ 1.2456367  -0.30320363  0.07034632 -0.0127794 ]\n",
      " [-0.30581077  1.62502643 -0.39018746  0.07097181]\n",
      " [ 0.07097181 -0.39018746  1.62502643 -0.30581077]\n",
      " [-0.0127794   0.07034632 -0.30320363  1.2456367 ]]\n"
     ]
    }
   ],
   "source": [
    "PI = np.zeros((nb_x_classes,nb_z_classes),dtype=float)\n",
    "x = Symbol('x')\n",
    "for i in range(nb_x_classes):\n",
    "    f = sp.exp(-(x-(db[i]))**2/(2*((sigma)**2)))/(sigma*sp.sqrt(2*sp.pi))\n",
    "    for j in range(nb_z_classes):\n",
    "        if j == 0 :\n",
    "            PI[i][j] = sp.Integral(f, (x, -float('inf'), db[0] + 1 )).doit().evalf()\n",
    "            \n",
    "        elif j == nb_z_classes-1:\n",
    "            PI[i][j] = sp.Integral(f, (x, db[nb_z_classes-1] - 1, float('inf'))).doit().evalf()\n",
    "            \n",
    "        else :\n",
    "            PI[i][j] = sp.Integral(f, (x, db[j]-1, db[j]+1 )).doit().evalf()\n",
    "    print('proceeding..')\n",
    "print(PI)\n",
    "\n",
    "PI_inverse = np.linalg.inv(PI)\n",
    "print(PI_inverse)"
   ]
  },
  {
   "cell_type": "code",
   "execution_count": 15,
   "metadata": {},
   "outputs": [],
   "source": [
    "# pdf table"
   ]
  },
  {
   "cell_type": "code",
   "execution_count": 16,
   "metadata": {},
   "outputs": [
    {
     "name": "stdout",
     "output_type": "stream",
     "text": [
      "-30\n",
      "30\n",
      "60\n",
      "proceeding..\n",
      "proceeding..\n",
      "proceeding..\n",
      "proceeding..\n",
      "(4, 6000)\n",
      "[[1.99788926e-159 2.61703305e-159 3.42770607e-159 ... 3.60845068e-237\n",
      "  2.59484947e-237 1.86577871e-237]\n",
      " [9.55169454e-184 1.27645089e-183 1.70562819e-183 ... 2.11889749e-209\n",
      "  1.55448749e-209 1.14030515e-209]\n",
      " [8.36395161e-210 1.14030515e-209 1.55448749e-209 ... 2.27887861e-183\n",
      "  1.70562819e-183 1.27645089e-183]\n",
      " [1.34141967e-237 1.86577871e-237 2.59484947e-237 ... 4.48905069e-159\n",
      "  3.42770607e-159 2.61703305e-159]]\n"
     ]
    }
   ],
   "source": [
    "start = - (nb_z_classes-1)*10\n",
    "print(start)\n",
    "end = (nb_z_classes-1)*10\n",
    "print(end)\n",
    "interval_length = end - start\n",
    "print(interval_length)\n",
    "\n",
    "pdf_table = np.zeros((nb_x_classes , interval_length*100),dtype='float64') # interval : 0.01\n",
    "\n",
    "for i in range(nb_x_classes):\n",
    "    f = sp.exp(-(x-(db[i]))**2/(2*((sigma)**2)))/(sigma*sp.sqrt(2*sp.pi))\n",
    "    f_ = f.evalf()\n",
    "    \n",
    "    for j in range(interval_length*100) :\n",
    "        pdf_table[i][j] = f_.subs(x, start+(j)/100) # x에 0.00~9.99대입 \n",
    "        \n",
    "    print('proceeding..')\n",
    "print(pdf_table.shape)\n",
    "print(pdf_table)"
   ]
  },
  {
   "cell_type": "code",
   "execution_count": 17,
   "metadata": {},
   "outputs": [
    {
     "name": "stdout",
     "output_type": "stream",
     "text": [
      "-7.8\n",
      "7.62\n",
      "Range : -30 30\n"
     ]
    }
   ],
   "source": [
    "print(min(noisy_y_denoising))\n",
    "print(max(noisy_y_denoising))\n",
    "print('Range :',start, -start)"
   ]
  },
  {
   "cell_type": "code",
   "execution_count": 18,
   "metadata": {},
   "outputs": [
    {
     "name": "stdout",
     "output_type": "stream",
     "text": [
      "PI :\n",
      "[[8.41344746e-01 1.57305356e-01 1.34961138e-03 2.86651572e-07]\n",
      " [1.58655254e-01 6.82689492e-01 1.57305356e-01 1.34989803e-03]\n",
      " [1.34989803e-03 1.57305356e-01 6.82689492e-01 1.58655254e-01]\n",
      " [2.86651572e-07 1.34961138e-03 1.57305356e-01 8.41344746e-01]]\n",
      "pdf_table :\n",
      "[[1.99788926e-159 2.61703305e-159 3.42770607e-159 ... 3.60845068e-237 2.59484947e-237 1.86577871e-237]\n",
      " [9.55169454e-184 1.27645089e-183 1.70562819e-183 ... 2.11889749e-209 1.55448749e-209 1.14030515e-209]\n",
      " [8.36395161e-210 1.14030515e-209 1.55448749e-209 ... 2.27887861e-183 1.70562819e-183 1.27645089e-183]\n",
      " [1.34141967e-237 1.86577871e-237 2.59484947e-237 ... 4.48905069e-159 3.42770607e-159 2.61703305e-159]]\n"
     ]
    }
   ],
   "source": [
    "np.set_printoptions(linewidth=180)\n",
    "print('PI :')\n",
    "print(PI)\n",
    "\n",
    "print('pdf_table :')\n",
    "print(pdf_table)"
   ]
  },
  {
   "cell_type": "code",
   "execution_count": null,
   "metadata": {},
   "outputs": [],
   "source": []
  },
  {
   "cell_type": "code",
   "execution_count": 19,
   "metadata": {},
   "outputs": [
    {
     "data": {
      "image/png": "[encoded data removed]",
      "text/plain": [
       "<Figure size 1080x720 with 1 Axes>"
      ]
     },
     "metadata": {
      "needs_background": "light"
     },
     "output_type": "display_data"
    }
   ],
   "source": [
    "plt.rcParams[\"figure.figsize\"] = (15,10)\n",
    "plt.rcParams['lines.linewidth'] = 2\n",
    "plt.rcParams['axes.grid'] = True \n",
    "plt.rcParams['font.size'] = 40\n",
    "\n",
    "x = np.arange(start,end,0.01) # -36.00 ~ 35.99 까지 ~~\n",
    "\n",
    "y_0 = pdf_table[0]\n",
    "y_1 = pdf_table[1]\n",
    "y_2 = pdf_table[2]\n",
    "y_3 = pdf_table[3]\n",
    "\n",
    "plt.plot(x,y_0,label='x=-3') # A bar chart\n",
    "plt.plot(x,y_1,label='x=-1') # A bar chart\n",
    "plt.plot(x,y_2,label='x=1') # A bar chart\n",
    "plt.plot(x,y_3,label='x=3') # A bar chart\n",
    "\n",
    "#plt.title(\"pdf table made by picking points \")\n",
    "plt.xlabel('y value')\n",
    "plt.ylabel('pdf value')\n",
    "plt.xticks([-5,-3,-1,1,3,5])\n",
    "plt.legend(loc='upper right')\n",
    "plt.xlim(-6+db[0],6+db[nb_z_classes-1])\n",
    "plt.savefig(\"./\"+experiment_directory_name+\"/4ary_pdf_table_line.png\", dpi = 100)\n",
    "\n",
    "plt.show()\n"
   ]
  },
  {
   "cell_type": "code",
   "execution_count": null,
   "metadata": {},
   "outputs": [],
   "source": []
  },
  {
   "cell_type": "code",
   "execution_count": 20,
   "metadata": {},
   "outputs": [],
   "source": [
    "file_model = 'Gen-CUDE'\n",
    "    \n",
    "f = open('./'+experiment_directory_name+'/result_'+file_model+'.txt', 'w') \n",
    "f.flush()\n",
    "f.flush()\n",
    "f.close()   "
   ]
  },
  {
   "cell_type": "code",
   "execution_count": 21,
   "metadata": {},
   "outputs": [],
   "source": [
    "batch_size = 1000\n",
    "epochs = 10"
   ]
  },
  {
   "cell_type": "code",
   "execution_count": 22,
   "metadata": {},
   "outputs": [
    {
     "name": "stdout",
     "output_type": "stream",
     "text": [
      "[[0 1 1 1]\n",
      " [1 0 1 1]\n",
      " [1 1 0 1]\n",
      " [1 1 1 0]]\n"
     ]
    }
   ],
   "source": [
    "loss_matrix = np.int_(np.ones((nb_x_classes, nb_x_classes)) - np.eye(nb_x_classes))\n",
    "print(loss_matrix)\n",
    "\n",
    "z=transform_to_narrow(quantized_z_denoising,nb_z_classes)\n",
    "Z=np_utils.to_categorical(  z, nb_z_classes ,dtype=np.int32)"
   ]
  },
  {
   "cell_type": "code",
   "execution_count": 23,
   "metadata": {},
   "outputs": [
    {
     "name": "stdout",
     "output_type": "stream",
     "text": [
      "k 1\n"
     ]
    },
    {
     "name": "stderr",
     "output_type": "stream",
     "text": [
      "WARNING: Logging before flag parsing goes to stderr.\n",
      "W0601 10:12:33.911651 139781591783168 module_wrapper.py:139] From /compuworks/anaconda3/lib/python3.6/site-packages/keras/backend/tensorflow_backend.py:74: The name tf.get_default_graph is deprecated. Please use tf.compat.v1.get_default_graph instead.\n",
      "\n",
      "W0601 10:12:33.916858 139781591783168 module_wrapper.py:139] From /compuworks/anaconda3/lib/python3.6/site-packages/keras/backend/tensorflow_backend.py:517: The name tf.placeholder is deprecated. Please use tf.compat.v1.placeholder instead.\n",
      "\n",
      "W0601 10:12:33.924173 139781591783168 module_wrapper.py:139] From /compuworks/anaconda3/lib/python3.6/site-packages/keras/backend/tensorflow_backend.py:4185: The name tf.truncated_normal is deprecated. Please use tf.random.truncated_normal instead.\n",
      "\n",
      "W0601 10:12:34.029192 139781591783168 module_wrapper.py:139] From /compuworks/anaconda3/lib/python3.6/site-packages/keras/optimizers.py:790: The name tf.train.Optimizer is deprecated. Please use tf.compat.v1.train.Optimizer instead.\n",
      "\n",
      "W0601 10:12:34.037954 139781591783168 module_wrapper.py:139] From /compuworks/anaconda3/lib/python3.6/site-packages/keras/backend/tensorflow_backend.py:3295: The name tf.log is deprecated. Please use tf.math.log instead.\n",
      "\n",
      "W0601 10:12:34.143751 139781591783168 deprecation.py:323] From /compuworks/anaconda3/lib/python3.6/site-packages/tensorflow_core/python/ops/math_grad.py:1424: where (from tensorflow.python.ops.array_ops) is deprecated and will be removed in a future version.\n",
      "Instructions for updating:\n",
      "Use tf.where in 2.0, which has the same broadcast rule as np.where\n",
      "W0601 10:12:34.220649 139781591783168 module_wrapper.py:139] From /compuworks/anaconda3/lib/python3.6/site-packages/keras/backend/tensorflow_backend.py:986: The name tf.assign_add is deprecated. Please use tf.compat.v1.assign_add instead.\n",
      "\n",
      "W0601 10:12:34.405425 139781591783168 module_wrapper.py:139] From /compuworks/anaconda3/lib/python3.6/site-packages/keras/backend/tensorflow_backend.py:973: The name tf.assign is deprecated. Please use tf.compat.v1.assign instead.\n",
      "\n",
      "W0601 10:12:34.548077 139781591783168 module_wrapper.py:139] From /compuworks/anaconda3/lib/python3.6/site-packages/keras/backend/tensorflow_backend.py:2741: The name tf.Session is deprecated. Please use tf.compat.v1.Session instead.\n",
      "\n",
      "W0601 10:12:34.674175 139781591783168 module_wrapper.py:139] From /compuworks/anaconda3/lib/python3.6/site-packages/keras/backend/tensorflow_backend.py:174: The name tf.get_default_session is deprecated. Please use tf.compat.v1.get_default_session instead.\n",
      "\n",
      "W0601 10:12:34.675520 139781591783168 module_wrapper.py:139] From /compuworks/anaconda3/lib/python3.6/site-packages/keras/backend/tensorflow_backend.py:181: The name tf.ConfigProto is deprecated. Please use tf.compat.v1.ConfigProto instead.\n",
      "\n"
     ]
    },
    {
     "name": "stdout",
     "output_type": "stream",
     "text": [
      "Train on 2999998 samples, validate on 2999998 samples\n",
      "Epoch 1/10\n"
     ]
    },
    {
     "name": "stderr",
     "output_type": "stream",
     "text": [
      "W0601 10:12:35.749322 139781591783168 module_wrapper.py:139] From /compuworks/anaconda3/lib/python3.6/site-packages/keras/backend/tensorflow_backend.py:190: The name tf.global_variables is deprecated. Please use tf.compat.v1.global_variables instead.\n",
      "\n",
      "W0601 10:12:35.751596 139781591783168 module_wrapper.py:139] From /compuworks/anaconda3/lib/python3.6/site-packages/keras/backend/tensorflow_backend.py:199: The name tf.is_variable_initialized is deprecated. Please use tf.compat.v1.is_variable_initialized instead.\n",
      "\n",
      "W0601 10:12:35.940226 139781591783168 module_wrapper.py:139] From /compuworks/anaconda3/lib/python3.6/site-packages/keras/backend/tensorflow_backend.py:206: The name tf.variables_initializer is deprecated. Please use tf.compat.v1.variables_initializer instead.\n",
      "\n"
     ]
    },
    {
     "name": "stdout",
     "output_type": "stream",
     "text": [
      "2999998/2999998 [==============================] - 44s 15us/step - loss: 0.8781 - val_loss: 0.8716\n",
      "Epoch 2/10\n",
      "2999998/2999998 [==============================] - 42s 14us/step - loss: 0.8697 - val_loss: 0.8712\n",
      "Epoch 3/10\n",
      "2999998/2999998 [==============================] - 43s 14us/step - loss: 0.8688 - val_loss: 0.8678\n",
      "Epoch 4/10\n",
      "2999998/2999998 [==============================] - 42s 14us/step - loss: 0.8682 - val_loss: 0.8676\n",
      "Epoch 5/10\n",
      "2999998/2999998 [==============================] - 42s 14us/step - loss: 0.8679 - val_loss: 0.8677\n",
      "Epoch 6/10\n",
      "2999998/2999998 [==============================] - 43s 14us/step - loss: 0.8677 - val_loss: 0.8671\n",
      "Epoch 7/10\n",
      "2999998/2999998 [==============================] - 43s 14us/step - loss: 0.8675 - val_loss: 0.8679\n",
      "Epoch 8/10\n",
      "2999998/2999998 [==============================] - 43s 14us/step - loss: 0.8674 - val_loss: 0.8671\n",
      "Epoch 9/10\n",
      "2999998/2999998 [==============================] - 43s 14us/step - loss: 0.8673 - val_loss: 0.8678\n",
      "Epoch 10/10\n",
      "2999998/2999998 [==============================] - 42s 14us/step - loss: 0.8673 - val_loss: 0.8667\n",
      "2999998/2999998 [==============================] - 9s 3us/step\n",
      "time(s)): 457.09280610084534\n",
      "x_hat_error :  0.10167366666666666\n",
      "2020-06-01 10:19:52.231032\twindow size k : 1\n",
      "2020-06-01 10:19:52.231103\ttime(s) : 457.092806\n",
      "2020-06-01 10:19:52.232948\tx_hat_error_rate : 0.101674\n",
      "2020-06-01 10:19:52.233126\t\n",
      "k 2\n",
      "Train on 2999996 samples, validate on 2999996 samples\n",
      "Epoch 1/10\n",
      "2999996/2999996 [==============================] - 43s 14us/step - loss: 0.8358 - val_loss: 0.8215\n",
      "Epoch 2/10\n",
      "2999996/2999996 [==============================] - 42s 14us/step - loss: 0.8219 - val_loss: 0.8207\n",
      "Epoch 3/10\n",
      "2999996/2999996 [==============================] - 42s 14us/step - loss: 0.8204 - val_loss: 0.8181\n",
      "Epoch 4/10\n",
      "2999996/2999996 [==============================] - 42s 14us/step - loss: 0.8195 - val_loss: 0.8199\n",
      "Epoch 5/10\n",
      "2999996/2999996 [==============================] - 42s 14us/step - loss: 0.8189 - val_loss: 0.8178\n",
      "Epoch 6/10\n",
      "2999996/2999996 [==============================] - 42s 14us/step - loss: 0.8186 - val_loss: 0.8195\n",
      "Epoch 7/10\n",
      "2999996/2999996 [==============================] - 42s 14us/step - loss: 0.8184 - val_loss: 0.8176\n",
      "Epoch 8/10\n",
      "2999996/2999996 [==============================] - 42s 14us/step - loss: 0.8182 - val_loss: 0.8176\n",
      "Epoch 9/10\n",
      "2999996/2999996 [==============================] - 42s 14us/step - loss: 0.8180 - val_loss: 0.8179\n",
      "Epoch 10/10\n",
      "2999996/2999996 [==============================] - 42s 14us/step - loss: 0.8179 - val_loss: 0.8186\n",
      "2999996/2999996 [==============================] - 9s 3us/step\n",
      "time(s)): 456.42788887023926\n",
      "x_hat_error :  0.070931\n",
      "2020-06-01 10:27:30.073689\twindow size k : 2\n",
      "2020-06-01 10:27:30.073831\ttime(s) : 456.427889\n",
      "2020-06-01 10:27:30.073948\tx_hat_error_rate : 0.070931\n",
      "2020-06-01 10:27:30.073972\t\n",
      "k 3\n",
      "Train on 2999994 samples, validate on 2999994 samples\n",
      "Epoch 1/10\n",
      "2999994/2999994 [==============================] - 44s 15us/step - loss: 0.8260 - val_loss: 0.8082\n",
      "Epoch 2/10\n",
      "2999994/2999994 [==============================] - 44s 15us/step - loss: 0.8092 - val_loss: 0.8070\n",
      "Epoch 3/10\n",
      "2999994/2999994 [==============================] - 44s 15us/step - loss: 0.8070 - val_loss: 0.8053\n",
      "Epoch 4/10\n",
      "2999994/2999994 [==============================] - 44s 15us/step - loss: 0.8059 - val_loss: 0.8042\n",
      "Epoch 5/10\n",
      "2999994/2999994 [==============================] - 44s 15us/step - loss: 0.8051 - val_loss: 0.8065\n",
      "Epoch 6/10\n",
      "2999994/2999994 [==============================] - 44s 15us/step - loss: 0.8046 - val_loss: 0.8035\n",
      "Epoch 7/10\n",
      "2999994/2999994 [==============================] - 44s 15us/step - loss: 0.8043 - val_loss: 0.8033\n",
      "Epoch 8/10\n",
      "2999994/2999994 [==============================] - 44s 15us/step - loss: 0.8039 - val_loss: 0.8033\n",
      "Epoch 9/10\n",
      "2999994/2999994 [==============================] - 44s 15us/step - loss: 0.8036 - val_loss: 0.8030\n",
      "Epoch 10/10\n",
      "2999994/2999994 [==============================] - 43s 14us/step - loss: 0.8035 - val_loss: 0.8034\n",
      "2999994/2999994 [==============================] - 10s 3us/step\n",
      "time(s)): 473.41971015930176\n",
      "x_hat_error :  0.059804333333333334\n",
      "2020-06-01 10:35:24.730759\twindow size k : 3\n",
      "2020-06-01 10:35:24.730898\ttime(s) : 473.419710\n",
      "2020-06-01 10:35:24.731318\tx_hat_error_rate : 0.059804\n",
      "2020-06-01 10:35:24.731379\t\n",
      "k 5\n",
      "Train on 2999990 samples, validate on 2999990 samples\n",
      "Epoch 1/10\n",
      "2999990/2999990 [==============================] - 45s 15us/step - loss: 0.8237 - val_loss: 0.8067\n",
      "Epoch 2/10\n",
      "2999990/2999990 [==============================] - 44s 15us/step - loss: 0.8043 - val_loss: 0.8013\n",
      "Epoch 3/10\n",
      "2999990/2999990 [==============================] - 44s 15us/step - loss: 0.8017 - val_loss: 0.7996\n",
      "Epoch 4/10\n",
      "2999990/2999990 [==============================] - 44s 15us/step - loss: 0.8003 - val_loss: 0.7984\n",
      "Epoch 5/10\n",
      "2999990/2999990 [==============================] - 45s 15us/step - loss: 0.7994 - val_loss: 0.7988\n",
      "Epoch 6/10\n",
      "2999990/2999990 [==============================] - 44s 15us/step - loss: 0.7987 - val_loss: 0.7976\n",
      "Epoch 7/10\n",
      "2999990/2999990 [==============================] - 44s 15us/step - loss: 0.7982 - val_loss: 0.7970\n",
      "Epoch 8/10\n",
      "2999990/2999990 [==============================] - 44s 15us/step - loss: 0.7977 - val_loss: 0.7981\n",
      "Epoch 9/10\n",
      "2999990/2999990 [==============================] - 44s 15us/step - loss: 0.7974 - val_loss: 0.7965\n",
      "Epoch 10/10\n",
      "2999990/2999990 [==============================] - 44s 15us/step - loss: 0.7970 - val_loss: 0.7960\n",
      "2999990/2999990 [==============================] - 10s 3us/step\n",
      "time(s)): 478.76167249679565\n",
      "x_hat_error :  0.056577333333333334\n",
      "2020-06-01 10:43:24.869797\twindow size k : 5\n",
      "2020-06-01 10:43:24.869951\ttime(s) : 478.761672\n",
      "2020-06-01 10:43:24.870387\tx_hat_error_rate : 0.056577\n",
      "2020-06-01 10:43:24.870458\t\n",
      "k 8\n",
      "Train on 2999984 samples, validate on 2999984 samples\n",
      "Epoch 1/10\n",
      "2999984/2999984 [==============================] - 46s 15us/step - loss: 0.8294 - val_loss: 0.8080\n",
      "Epoch 2/10\n",
      "2999984/2999984 [==============================] - 44s 15us/step - loss: 0.8049 - val_loss: 0.8025\n",
      "Epoch 3/10\n",
      "2999984/2999984 [==============================] - 44s 15us/step - loss: 0.8019 - val_loss: 0.7997\n",
      "Epoch 4/10\n",
      "2999984/2999984 [==============================] - 44s 15us/step - loss: 0.8002 - val_loss: 0.7986\n",
      "Epoch 5/10\n",
      "2999984/2999984 [==============================] - 44s 15us/step - loss: 0.7991 - val_loss: 0.7975\n",
      "Epoch 6/10\n",
      "2999984/2999984 [==============================] - 45s 15us/step - loss: 0.7985 - val_loss: 0.7969\n",
      "Epoch 7/10\n",
      "2999984/2999984 [==============================] - 45s 15us/step - loss: 0.7978 - val_loss: 0.7974\n",
      "Epoch 8/10\n",
      "2999984/2999984 [==============================] - 45s 15us/step - loss: 0.7973 - val_loss: 0.7959\n",
      "Epoch 9/10\n",
      "2999984/2999984 [==============================] - 45s 15us/step - loss: 0.7968 - val_loss: 0.7952\n",
      "Epoch 10/10\n",
      "2999984/2999984 [==============================] - 45s 15us/step - loss: 0.7965 - val_loss: 0.7952\n",
      "2999984/2999984 [==============================] - 10s 3us/step\n",
      "time(s)): 482.66819429397583\n",
      "x_hat_error :  0.05589433333333333\n",
      "2020-06-01 10:51:28.922116\twindow size k : 8\n",
      "2020-06-01 10:51:28.922158\ttime(s) : 482.668194\n",
      "2020-06-01 10:51:28.922522\tx_hat_error_rate : 0.055894\n",
      "2020-06-01 10:51:28.922547\t\n",
      "k 10\n",
      "Train on 2999980 samples, validate on 2999980 samples\n",
      "Epoch 1/10\n",
      "2999980/2999980 [==============================] - 46s 15us/step - loss: 0.8327 - val_loss: 0.8072\n",
      "Epoch 2/10\n",
      "2999980/2999980 [==============================] - 45s 15us/step - loss: 0.8055 - val_loss: 0.8030\n",
      "Epoch 3/10\n",
      "2999980/2999980 [==============================] - 45s 15us/step - loss: 0.8021 - val_loss: 0.8012\n",
      "Epoch 4/10\n",
      "2999980/2999980 [==============================] - 45s 15us/step - loss: 0.8005 - val_loss: 0.7985\n",
      "Epoch 5/10\n",
      "2999980/2999980 [==============================] - 45s 15us/step - loss: 0.7992 - val_loss: 0.7971\n",
      "Epoch 6/10\n",
      "2999980/2999980 [==============================] - 45s 15us/step - loss: 0.7983 - val_loss: 0.7965\n",
      "Epoch 7/10\n",
      "2999980/2999980 [==============================] - 45s 15us/step - loss: 0.7978 - val_loss: 0.7963\n",
      "Epoch 8/10\n",
      "2999980/2999980 [==============================] - 45s 15us/step - loss: 0.7973 - val_loss: 0.7957\n",
      "Epoch 9/10\n",
      "2999980/2999980 [==============================] - 46s 15us/step - loss: 0.7968 - val_loss: 0.7950\n",
      "Epoch 10/10\n",
      "2999980/2999980 [==============================] - 45s 15us/step - loss: 0.7964 - val_loss: 0.7944\n",
      "2999980/2999980 [==============================] - 10s 3us/step\n",
      "time(s)): 488.2047188282013\n",
      "x_hat_error :  0.055328666666666665\n",
      "2020-06-01 10:59:38.440718\twindow size k : 10\n",
      "2020-06-01 10:59:38.440767\ttime(s) : 488.204719\n",
      "2020-06-01 10:59:38.441160\tx_hat_error_rate : 0.055329\n",
      "2020-06-01 10:59:38.441193\t\n",
      "k 15\n",
      "Train on 2999970 samples, validate on 2999970 samples\n",
      "Epoch 1/10\n",
      "2999970/2999970 [==============================] - 47s 16us/step - loss: 0.8372 - val_loss: 0.8095\n",
      "Epoch 2/10\n",
      "2999970/2999970 [==============================] - 45s 15us/step - loss: 0.8067 - val_loss: 0.8032\n",
      "Epoch 3/10\n",
      "2999970/2999970 [==============================] - 47s 16us/step - loss: 0.8028 - val_loss: 0.8016\n",
      "Epoch 4/10\n",
      "2999970/2999970 [==============================] - 45s 15us/step - loss: 0.8008 - val_loss: 0.7990\n",
      "Epoch 5/10\n",
      "2999970/2999970 [==============================] - 46s 15us/step - loss: 0.7997 - val_loss: 0.7975\n",
      "Epoch 6/10\n",
      "2999970/2999970 [==============================] - 46s 15us/step - loss: 0.7987 - val_loss: 0.7971\n",
      "Epoch 7/10\n",
      "2999970/2999970 [==============================] - 46s 15us/step - loss: 0.7980 - val_loss: 0.7968\n",
      "Epoch 8/10\n",
      "2999970/2999970 [==============================] - 45s 15us/step - loss: 0.7976 - val_loss: 0.7954\n",
      "Epoch 9/10\n",
      "2999970/2999970 [==============================] - 45s 15us/step - loss: 0.7971 - val_loss: 0.7957\n",
      "Epoch 10/10\n",
      "2999970/2999970 [==============================] - 46s 15us/step - loss: 0.7966 - val_loss: 0.7954\n",
      "2999970/2999970 [==============================] - 10s 3us/step\n",
      "time(s)): 493.9895794391632\n",
      "x_hat_error :  0.055813666666666664\n",
      "2020-06-01 11:07:53.854484\twindow size k : 15\n",
      "2020-06-01 11:07:53.854522\ttime(s) : 493.989579\n",
      "2020-06-01 11:07:53.854883\tx_hat_error_rate : 0.055814\n",
      "2020-06-01 11:07:53.854905\t\n",
      "k 20\n",
      "Train on 2999960 samples, validate on 2999960 samples\n",
      "Epoch 1/10\n",
      "2999960/2999960 [==============================] - 49s 16us/step - loss: 0.8401 - val_loss: 0.8142\n",
      "Epoch 2/10\n",
      "2999960/2999960 [==============================] - 46s 15us/step - loss: 0.8072 - val_loss: 0.8025\n",
      "Epoch 3/10\n",
      "2999960/2999960 [==============================] - 46s 15us/step - loss: 0.8028 - val_loss: 0.7998\n",
      "Epoch 4/10\n",
      "2999960/2999960 [==============================] - 47s 16us/step - loss: 0.8009 - val_loss: 0.7985\n",
      "Epoch 5/10\n",
      "2999960/2999960 [==============================] - 47s 16us/step - loss: 0.7995 - val_loss: 0.7971\n",
      "Epoch 6/10\n",
      "2999960/2999960 [==============================] - 47s 16us/step - loss: 0.7986 - val_loss: 0.7968\n",
      "Epoch 7/10\n",
      "2999960/2999960 [==============================] - 46s 15us/step - loss: 0.7980 - val_loss: 0.7964\n",
      "Epoch 8/10\n",
      "2999960/2999960 [==============================] - 46s 15us/step - loss: 0.7975 - val_loss: 0.7962\n",
      "Epoch 9/10\n",
      "2999960/2999960 [==============================] - 47s 16us/step - loss: 0.7969 - val_loss: 0.7950\n",
      "Epoch 10/10\n",
      "2999960/2999960 [==============================] - 46s 15us/step - loss: 0.7965 - val_loss: 0.7954\n",
      "2999960/2999960 [==============================] - 11s 4us/step\n",
      "time(s)): 502.7953419685364\n",
      "x_hat_error :  0.056472666666666664\n",
      "2020-06-01 11:16:17.901336\twindow size k : 20\n",
      "2020-06-01 11:16:17.901376\ttime(s) : 502.795342\n",
      "2020-06-01 11:16:17.901745\tx_hat_error_rate : 0.056473\n",
      "2020-06-01 11:16:17.901768\t\n",
      "k 30\n",
      "Train on 2999940 samples, validate on 2999940 samples\n",
      "Epoch 1/10\n",
      "2999940/2999940 [==============================] - 50s 17us/step - loss: 0.8463 - val_loss: 0.8111\n",
      "Epoch 2/10\n",
      "2999940/2999940 [==============================] - 48s 16us/step - loss: 0.8090 - val_loss: 0.8036\n",
      "Epoch 3/10\n",
      "2999940/2999940 [==============================] - 48s 16us/step - loss: 0.8041 - val_loss: 0.8014\n",
      "Epoch 4/10\n",
      "2999940/2999940 [==============================] - 48s 16us/step - loss: 0.8018 - val_loss: 0.7996\n",
      "Epoch 5/10\n",
      "2999940/2999940 [==============================] - 50s 17us/step - loss: 0.8003 - val_loss: 0.7991\n",
      "Epoch 6/10\n",
      "2999940/2999940 [==============================] - 49s 16us/step - loss: 0.7994 - val_loss: 0.7984\n",
      "Epoch 7/10\n",
      "2999940/2999940 [==============================] - 49s 16us/step - loss: 0.7986 - val_loss: 0.7973\n",
      "Epoch 8/10\n",
      "2999940/2999940 [==============================] - 50s 17us/step - loss: 0.7979 - val_loss: 0.7966\n",
      "Epoch 9/10\n",
      "2999940/2999940 [==============================] - 49s 16us/step - loss: 0.7975 - val_loss: 0.7960\n",
      "Epoch 10/10\n",
      "2999940/2999940 [==============================] - 49s 16us/step - loss: 0.7970 - val_loss: 0.7957\n",
      "2999940/2999940 [==============================] - 11s 4us/step\n",
      "time(s)): 525.9578614234924\n",
      "x_hat_error :  0.05675533333333333\n",
      "2020-06-01 11:25:05.190987\twindow size k : 30\n",
      "2020-06-01 11:25:05.191026\ttime(s) : 525.957861\n",
      "2020-06-01 11:25:05.191181\tx_hat_error_rate : 0.056755\n",
      "2020-06-01 11:25:05.191203\t\n",
      "k 50\n",
      "Train on 2999900 samples, validate on 2999900 samples\n",
      "Epoch 1/10\n",
      "2999900/2999900 [==============================] - 53s 18us/step - loss: 0.8487 - val_loss: 0.8139\n",
      "Epoch 2/10\n",
      "2999900/2999900 [==============================] - 51s 17us/step - loss: 0.8109 - val_loss: 0.8075\n",
      "Epoch 3/10\n",
      "2999900/2999900 [==============================] - 51s 17us/step - loss: 0.8050 - val_loss: 0.8017\n",
      "Epoch 4/10\n",
      "2999900/2999900 [==============================] - 51s 17us/step - loss: 0.8024 - val_loss: 0.7992\n",
      "Epoch 5/10\n",
      "2999900/2999900 [==============================] - 51s 17us/step - loss: 0.8009 - val_loss: 0.7991\n",
      "Epoch 6/10\n",
      "2999900/2999900 [==============================] - 51s 17us/step - loss: 0.7999 - val_loss: 0.7993\n",
      "Epoch 7/10\n",
      "2999900/2999900 [==============================] - 51s 17us/step - loss: 0.7991 - val_loss: 0.7973\n",
      "Epoch 8/10\n",
      "2999900/2999900 [==============================] - 51s 17us/step - loss: 0.7985 - val_loss: 0.7975\n",
      "Epoch 9/10\n",
      "2999900/2999900 [==============================] - 51s 17us/step - loss: 0.7980 - val_loss: 0.7959\n",
      "Epoch 10/10\n",
      "2999900/2999900 [==============================] - 51s 17us/step - loss: 0.7973 - val_loss: 0.7959\n",
      "2999900/2999900 [==============================] - 12s 4us/step\n",
      "time(s)): 547.8373947143555\n",
      "x_hat_error :  0.05802466666666667\n",
      "2020-06-01 11:34:14.407000\twindow size k : 50\n",
      "2020-06-01 11:34:14.407155\ttime(s) : 547.837395\n",
      "2020-06-01 11:34:14.407575\tx_hat_error_rate : 0.058025\n",
      "2020-06-01 11:34:14.407642\t\n"
     ]
    }
   ],
   "source": [
    "k_set = []\n",
    "error_set = []\n",
    "time_set = []\n",
    "\n",
    "for k in [1,2,3,5,8,10,15,20,30,50]:\n",
    "    print('k',k)\n",
    "    \n",
    "    start_time = time.time()  \n",
    "    ###################################################################################\n",
    "    train_x = input_context_without_middle_symbol(noisy_y_denoising, k)\n",
    "    train_y = Z[k:len(Z)-k,]\n",
    "   \n",
    "\n",
    "    y_middle = middle_y(noisy_y_denoising,k) \n",
    "    pdf_vector = p_vector_from_wide_pdf_table(y_middle, pdf_table, nb_x_classes, end)\n",
    "    \n",
    "    \n",
    "    \n",
    "    \n",
    "    #----------------------------Neural Net model------------------------------#\n",
    "    #inputs = layers.Input(shape = (2 * k * nb_z_classes,))  # one hot\n",
    "    inputs = layers.Input(shape = (2 * k,))  # not one hot\n",
    "    layer = layers.Dense(200, kernel_initializer = 'he_normal')(inputs)\n",
    "    layer = layers.Activation('relu')(layer)\n",
    "    layer = layers.Dense(200, kernel_initializer = 'he_normal')(layer)\n",
    "    layer = layers.Activation('relu')(layer)\n",
    "    layer = layers.Dense(200, kernel_initializer = 'he_normal')(layer)\n",
    "    layer = layers.Activation('relu')(layer)\n",
    "    layer = layers.Dense(200, kernel_initializer = 'he_normal')(layer)\n",
    "    layer = layers.Activation('relu')(layer)\n",
    "    layer = layers.Dense(200, kernel_initializer = 'he_normal')(layer)\n",
    "    layer = layers.Activation('relu')(layer)\n",
    "    layer = layers.Dense(200, kernel_initializer = 'he_normal')(layer)\n",
    "    layer = layers.Activation('relu')(layer)\n",
    "    layer = layers.Dense(nb_z_classes , kernel_initializer = 'he_normal')(layer)\n",
    "    outputs = layers.Activation('softmax')(layer)\n",
    "    model = models.Model(inputs = inputs, outputs = outputs)\n",
    "    #--------------------------------------------------------------------------#\n",
    "    \n",
    "    adam = optimizers.Adam(lr=0.001)\n",
    "    model.compile(loss='categorical_crossentropy', optimizer=adam)\n",
    "\n",
    "\n",
    "    \n",
    "    model.fit(train_x,train_y,epochs=epochs,batch_size=batch_size,\n",
    "                     verbose=1, validation_data=(train_x,train_y), shuffle=True)\n",
    "\n",
    "    \n",
    "    pred_prob = model.predict(train_x, batch_size = batch_size, verbose = 1)\n",
    "    \n",
    "    pred_prob_u_0 = pred_prob.dot(PI_inverse)\n",
    "    new_target = pred_prob_u_0 * pdf_vector    \n",
    "    denoised_seq = np.argmin(new_target.dot(loss_matrix),axis=1) \n",
    "    \n",
    "    x_nn_hat_sub= transform_to_wide(denoised_seq, nb_x_classes)\n",
    "    x_hat=np.hstack((quantized_z_denoising[0:k],x_nn_hat_sub,quantized_z_denoising[data_n - k:data_n]))\n",
    "    ###############################################################################################\n",
    "    \n",
    "    duration = time.time() - start_time\n",
    "    print(\"time(s)):\", duration )  \n",
    "    \n",
    "    error_x_hat = error_rate(discrete_x_denoising,x_hat)\n",
    "    print('x_hat_error : ', error_x_hat)\n",
    "\n",
    "    \n",
    "    ################################# save result ################################################ \n",
    "    f = open('./'+experiment_directory_name+'/result_'+file_model+'.txt', 'a')\n",
    "    f.flush()\n",
    "    PRINT(f, 'window size k : %d'%k)\n",
    "    PRINT(f, 'time(s) : %f'%duration)\n",
    "    f.flush()\n",
    "    PRINT(f, 'x_hat_error_rate : %f'%error_x_hat)\n",
    "    PRINT(f, '')\n",
    "\n",
    "    f.flush()\n",
    "    f.close()\n",
    "    \n",
    "    \n",
    "    k_set.append(k)\n",
    "    time_set.append(duration)\n",
    "    error_set.append(error_x_hat)"
   ]
  },
  {
   "cell_type": "code",
   "execution_count": 21,
   "metadata": {},
   "outputs": [],
   "source": [
    "saving_list = {'window_size_k':k_set, 'time':time_set, 'error_rate':error_set, 'error_x_z':error_x_z}\n",
    "saving_list = dict(saving_list)\n",
    "savemat('./'+experiment_directory_name+'/result_'+file_model+'.mat', saving_list)"
   ]
  }
 ],
 "metadata": {
  "kernelspec": {
   "display_name": "Python [conda env:root] *",
   "language": "python",
   "name": "conda-root-py"
  },
  "language_info": {
   "codemirror_mode": {
    "name": "ipython",
    "version": 3
   },
   "file_extension": ".py",
   "mimetype": "text/x-python",
   "name": "python",
   "nbconvert_exporter": "python",
   "pygments_lexer": "ipython3",
   "version": "3.6.6"
  }
 },
 "nbformat": 4,
 "nbformat_minor": 4
}
