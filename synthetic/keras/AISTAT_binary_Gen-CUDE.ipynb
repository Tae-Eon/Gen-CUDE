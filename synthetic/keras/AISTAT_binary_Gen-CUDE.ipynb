{
 "cells": [
  {
   "cell_type": "code",
   "execution_count": 1,
   "metadata": {},
   "outputs": [
    {
     "name": "stderr",
     "output_type": "stream",
     "text": [
      "Using TensorFlow backend.\n"
     ]
    }
   ],
   "source": [
    "from utils import *\n",
    "import tensorflow as tf\n",
    "\n",
    "import keras\n",
    "from keras import layers\n",
    "from keras import models\n",
    "from keras import optimizers\n",
    "from keras.utils import np_utils        \n",
    "from torch.utils.data import TensorDataset \n",
    "\n",
    "\n",
    "import os\n",
    "import sympy as sp\n",
    "from sympy import exp, sqrt, pi, Integral, Symbol\n",
    "import time\n",
    "from scipy.io import savemat\n",
    "\n",
    "\n",
    "import matplotlib.pyplot as plt"
   ]
  },
  {
   "cell_type": "code",
   "execution_count": 2,
   "metadata": {},
   "outputs": [],
   "source": [
    "seed_value = 0\n",
    "set_seed(seed_value)"
   ]
  },
  {
   "cell_type": "code",
   "execution_count": 3,
   "metadata": {},
   "outputs": [],
   "source": [
    "# make folder to save results\n",
    "experiment_directory_name = 'binary'\n",
    "if not os.path.isdir('./'+experiment_directory_name):\n",
    "    os.mkdir('./'+experiment_directory_name)"
   ]
  },
  {
   "cell_type": "code",
   "execution_count": 4,
   "metadata": {},
   "outputs": [],
   "source": [
    "# Generate Data"
   ]
  },
  {
   "cell_type": "code",
   "execution_count": 5,
   "metadata": {},
   "outputs": [],
   "source": [
    "data_n = int(3e6)\n",
    "sigma=1.0\n",
    "nb_x_classes = 2\n",
    "nb_z_classes = 2\n",
    "transition_prob = 0.1"
   ]
  },
  {
   "cell_type": "code",
   "execution_count": 6,
   "metadata": {},
   "outputs": [
    {
     "name": "stdout",
     "output_type": "stream",
     "text": [
      "[-1  1]\n"
     ]
    }
   ],
   "source": [
    "db = decision_boundary(nb_z_classes)\n",
    "print(db)"
   ]
  },
  {
   "cell_type": "code",
   "execution_count": 7,
   "metadata": {},
   "outputs": [
    {
     "name": "stdout",
     "output_type": "stream",
     "text": [
      "[[0.9 0.1]\n",
      " [0.1 0.9]]\n"
     ]
    }
   ],
   "source": [
    "a = sym_mat(nb_x_classes, transition_prob)\n",
    "print(a)"
   ]
  },
  {
   "cell_type": "code",
   "execution_count": 8,
   "metadata": {},
   "outputs": [
    {
     "name": "stdout",
     "output_type": "stream",
     "text": [
      "[ 1  1  1  1 -1 -1 -1 -1 -1 -1]\n"
     ]
    }
   ],
   "source": [
    "discrete_x_denoising = source_generator_v2(data_n, a)  \n",
    "print(discrete_x_denoising[10:20])"
   ]
  },
  {
   "cell_type": "code",
   "execution_count": 9,
   "metadata": {},
   "outputs": [
    {
     "name": "stdout",
     "output_type": "stream",
     "text": [
      "[ 2.49 -1.07  1.43  1.68 -1.64 -1.4  -1.13 -1.3  -1.31 -2.68]\n"
     ]
    }
   ],
   "source": [
    "noisy_y_denoising = np.round(con_noisy_awgn(discrete_x_denoising,sigma) , 2 ) # upto two decimal point\n",
    "print(noisy_y_denoising[10:20])"
   ]
  },
  {
   "cell_type": "code",
   "execution_count": 10,
   "metadata": {},
   "outputs": [
    {
     "name": "stdout",
     "output_type": "stream",
     "text": [
      "[ 1 -1  1  1 -1 -1 -1 -1 -1 -1]\n"
     ]
    }
   ],
   "source": [
    "quantized_z_denoising = find_nearest_integer(noisy_y_denoising, nb_z_classes)\n",
    "print(quantized_z_denoising[10:20])"
   ]
  },
  {
   "cell_type": "code",
   "execution_count": 11,
   "metadata": {},
   "outputs": [
    {
     "name": "stdout",
     "output_type": "stream",
     "text": [
      "-3.77\n",
      "3.3\n"
     ]
    }
   ],
   "source": [
    "print(min(noisy_y_denoising))\n",
    "print(max(noisy_y_denoising))"
   ]
  },
  {
   "cell_type": "code",
   "execution_count": 12,
   "metadata": {},
   "outputs": [
    {
     "name": "stdout",
     "output_type": "stream",
     "text": [
      "Data length :  300\n",
      "error_rate(x vs z) :  0.16\n"
     ]
    }
   ],
   "source": [
    "print( 'Data length : ', len(discrete_x_denoising) )\n",
    "error_x_z = error_rate(discrete_x_denoising, quantized_z_denoising)\n",
    "print('error_rate(x vs z) : ' , error_x_z)"
   ]
  },
  {
   "cell_type": "markdown",
   "metadata": {},
   "source": [
    "# Channel"
   ]
  },
  {
   "cell_type": "code",
   "execution_count": 13,
   "metadata": {},
   "outputs": [],
   "source": [
    "# induced channel matrix"
   ]
  },
  {
   "cell_type": "code",
   "execution_count": 14,
   "metadata": {},
   "outputs": [
    {
     "name": "stdout",
     "output_type": "stream",
     "text": [
      "proceeding..\n",
      "proceeding..\n",
      "[[0.84134475 0.15865525]\n",
      " [0.15865525 0.84134475]]\n",
      "[[ 1.23239739 -0.23239739]\n",
      " [-0.23239739  1.23239739]]\n"
     ]
    }
   ],
   "source": [
    "PI = np.zeros((nb_x_classes,nb_z_classes),dtype=float)\n",
    "x = Symbol('x')\n",
    "for i in range(nb_x_classes):\n",
    "    f = sp.exp(-(x-(db[i]))**2/(2*((sigma)**2)))/(sigma*sp.sqrt(2*sp.pi))\n",
    "    for j in range(nb_z_classes):\n",
    "        if j == 0 :\n",
    "            PI[i][j] = sp.Integral(f, (x, -float('inf'), db[0] + 1 )).doit().evalf()\n",
    "            \n",
    "        elif j == nb_z_classes-1:\n",
    "            PI[i][j] = sp.Integral(f, (x, db[nb_z_classes-1] - 1, float('inf'))).doit().evalf()\n",
    "            \n",
    "        else :\n",
    "            PI[i][j] = sp.Integral(f, (x, db[j]-1, db[j]+1 )).doit().evalf()\n",
    "    print('proceeding..')\n",
    "print(PI)\n",
    "\n",
    "PI_inverse = np.linalg.inv(PI)\n",
    "print(PI_inverse)"
   ]
  },
  {
   "cell_type": "code",
   "execution_count": 15,
   "metadata": {},
   "outputs": [],
   "source": [
    "# pdf table"
   ]
  },
  {
   "cell_type": "code",
   "execution_count": 16,
   "metadata": {},
   "outputs": [
    {
     "name": "stdout",
     "output_type": "stream",
     "text": [
      "-10\n",
      "10\n",
      "20\n",
      "proceeding..\n",
      "proceeding..\n",
      "(2, 2000)\n",
      "[[1.02797736e-18 1.12473015e-18 1.23046622e-18 ... 2.94588411e-27\n",
      "  2.63968338e-27 2.36507321e-27]\n",
      " [2.11881925e-27 2.36507321e-27 2.63968338e-27 ... 1.34600795e-18\n",
      "  1.23046622e-18 1.12473015e-18]]\n"
     ]
    }
   ],
   "source": [
    "start = - (nb_z_classes-1)*10\n",
    "print(start)\n",
    "end = (nb_z_classes-1)*10\n",
    "print(end)\n",
    "interval_length = end - start\n",
    "print(interval_length)\n",
    "\n",
    "pdf_table = np.zeros((nb_x_classes , interval_length*100),dtype='float64') # interval : 0.01\n",
    "\n",
    "for i in range(nb_x_classes):\n",
    "    f = sp.exp(-(x-(db[i]))**2/(2*((sigma)**2)))/(sigma*sp.sqrt(2*sp.pi))\n",
    "    f_ = f.evalf()\n",
    "    \n",
    "    for j in range(interval_length*100) :\n",
    "        pdf_table[i][j] = f_.subs(x, start+(j)/100) # x에 0.00~9.99대입 \n",
    "        \n",
    "    print('proceeding..')\n",
    "print(pdf_table.shape)\n",
    "print(pdf_table)"
   ]
  },
  {
   "cell_type": "code",
   "execution_count": 17,
   "metadata": {},
   "outputs": [
    {
     "name": "stdout",
     "output_type": "stream",
     "text": [
      "-3.77\n",
      "3.3\n",
      "Range : -10 10\n"
     ]
    }
   ],
   "source": [
    "print(min(noisy_y_denoising))\n",
    "print(max(noisy_y_denoising))\n",
    "print('Range :',start, -start)"
   ]
  },
  {
   "cell_type": "code",
   "execution_count": 18,
   "metadata": {},
   "outputs": [
    {
     "name": "stdout",
     "output_type": "stream",
     "text": [
      "PI :\n",
      "[[0.84134475 0.15865525]\n",
      " [0.15865525 0.84134475]]\n",
      "pdf_table :\n",
      "[[1.02797736e-18 1.12473015e-18 1.23046622e-18 ... 2.94588411e-27 2.63968338e-27 2.36507321e-27]\n",
      " [2.11881925e-27 2.36507321e-27 2.63968338e-27 ... 1.34600795e-18 1.23046622e-18 1.12473015e-18]]\n"
     ]
    }
   ],
   "source": [
    "np.set_printoptions(linewidth=180)\n",
    "print('PI :')\n",
    "print(PI)\n",
    "\n",
    "print('pdf_table :')\n",
    "print(pdf_table)"
   ]
  },
  {
   "cell_type": "code",
   "execution_count": null,
   "metadata": {},
   "outputs": [],
   "source": []
  },
  {
   "cell_type": "code",
   "execution_count": 19,
   "metadata": {},
   "outputs": [
    {
     "data": {
      "image/png": "[encoded data removed]",
      "text/plain": [
       "<Figure size 1080x720 with 1 Axes>"
      ]
     },
     "metadata": {
      "needs_background": "light"
     },
     "output_type": "display_data"
    }
   ],
   "source": [
    "plt.rcParams[\"figure.figsize\"] = (15,10)\n",
    "plt.rcParams['lines.linewidth'] = 2\n",
    "plt.rcParams['axes.grid'] = True \n",
    "plt.rcParams['font.size'] = 40\n",
    "\n",
    "x = np.arange(start,end,0.01) # -36.00 ~ 35.99 까지 ~~\n",
    "\n",
    "y_0 = pdf_table[0]\n",
    "y_1 = pdf_table[1]\n",
    "\n",
    "plt.plot(x,y_0,label='x=-1') # A bar chart\n",
    "plt.plot(x,y_1,label='x=1') # A bar chart\n",
    "\n",
    "\n",
    "#plt.title(\"pdf table made by picking points \")\n",
    "plt.xlabel('y value')\n",
    "plt.ylabel('pdf value')\n",
    "plt.xticks([-5,-3,-1,1,3,5])\n",
    "plt.legend(loc='upper right')\n",
    "plt.xlim(-6+db[0],6+db[nb_z_classes-1])\n",
    "plt.savefig(\"./\"+experiment_directory_name+\"/binary_pdf_table_line.png\", dpi = 100)\n",
    "\n",
    "plt.show()\n"
   ]
  },
  {
   "cell_type": "code",
   "execution_count": null,
   "metadata": {},
   "outputs": [],
   "source": []
  },
  {
   "cell_type": "code",
   "execution_count": 20,
   "metadata": {},
   "outputs": [],
   "source": [
    "file_model = 'Gen-CUDE'\n",
    "    \n",
    "f = open('./'+experiment_directory_name+'/result_'+file_model+'.txt', 'w') \n",
    "f.flush()\n",
    "f.flush()\n",
    "f.close()   "
   ]
  },
  {
   "cell_type": "code",
   "execution_count": 21,
   "metadata": {},
   "outputs": [],
   "source": [
    "batch_size = 1000\n",
    "epochs = 10"
   ]
  },
  {
   "cell_type": "code",
   "execution_count": 22,
   "metadata": {},
   "outputs": [
    {
     "name": "stdout",
     "output_type": "stream",
     "text": [
      "[[0 1]\n",
      " [1 0]]\n"
     ]
    }
   ],
   "source": [
    "loss_matrix = np.int_(np.ones((nb_x_classes, nb_x_classes)) - np.eye(nb_x_classes))\n",
    "print(loss_matrix)\n",
    "\n",
    "z=transform_to_narrow(quantized_z_denoising,nb_z_classes)\n",
    "Z=np_utils.to_categorical(  z, nb_z_classes ,dtype=np.int32)"
   ]
  },
  {
   "cell_type": "code",
   "execution_count": 23,
   "metadata": {},
   "outputs": [
    {
     "name": "stderr",
     "output_type": "stream",
     "text": [
      "WARNING: Logging before flag parsing goes to stderr.\n",
      "W0601 11:50:38.581630 139750555805440 module_wrapper.py:139] From /compuworks/anaconda3/lib/python3.6/site-packages/keras/backend/tensorflow_backend.py:74: The name tf.get_default_graph is deprecated. Please use tf.compat.v1.get_default_graph instead.\n",
      "\n",
      "W0601 11:50:38.583102 139750555805440 module_wrapper.py:139] From /compuworks/anaconda3/lib/python3.6/site-packages/keras/backend/tensorflow_backend.py:517: The name tf.placeholder is deprecated. Please use tf.compat.v1.placeholder instead.\n",
      "\n",
      "W0601 11:50:38.586367 139750555805440 module_wrapper.py:139] From /compuworks/anaconda3/lib/python3.6/site-packages/keras/backend/tensorflow_backend.py:4185: The name tf.truncated_normal is deprecated. Please use tf.random.truncated_normal instead.\n",
      "\n",
      "W0601 11:50:38.686606 139750555805440 module_wrapper.py:139] From /compuworks/anaconda3/lib/python3.6/site-packages/keras/optimizers.py:790: The name tf.train.Optimizer is deprecated. Please use tf.compat.v1.train.Optimizer instead.\n",
      "\n",
      "W0601 11:50:38.694404 139750555805440 module_wrapper.py:139] From /compuworks/anaconda3/lib/python3.6/site-packages/keras/backend/tensorflow_backend.py:3295: The name tf.log is deprecated. Please use tf.math.log instead.\n",
      "\n"
     ]
    },
    {
     "name": "stdout",
     "output_type": "stream",
     "text": [
      "k 1\n"
     ]
    },
    {
     "name": "stderr",
     "output_type": "stream",
     "text": [
      "W0601 11:50:38.808760 139750555805440 deprecation.py:323] From /compuworks/anaconda3/lib/python3.6/site-packages/tensorflow_core/python/ops/math_grad.py:1424: where (from tensorflow.python.ops.array_ops) is deprecated and will be removed in a future version.\n",
      "Instructions for updating:\n",
      "Use tf.where in 2.0, which has the same broadcast rule as np.where\n",
      "W0601 11:50:38.895748 139750555805440 module_wrapper.py:139] From /compuworks/anaconda3/lib/python3.6/site-packages/keras/backend/tensorflow_backend.py:986: The name tf.assign_add is deprecated. Please use tf.compat.v1.assign_add instead.\n",
      "\n",
      "W0601 11:50:39.127517 139750555805440 module_wrapper.py:139] From /compuworks/anaconda3/lib/python3.6/site-packages/keras/backend/tensorflow_backend.py:973: The name tf.assign is deprecated. Please use tf.compat.v1.assign instead.\n",
      "\n",
      "W0601 11:50:39.396844 139750555805440 module_wrapper.py:139] From /compuworks/anaconda3/lib/python3.6/site-packages/keras/backend/tensorflow_backend.py:2741: The name tf.Session is deprecated. Please use tf.compat.v1.Session instead.\n",
      "\n",
      "W0601 11:50:39.405319 139750555805440 module_wrapper.py:139] From /compuworks/anaconda3/lib/python3.6/site-packages/keras/backend/tensorflow_backend.py:174: The name tf.get_default_session is deprecated. Please use tf.compat.v1.get_default_session instead.\n",
      "\n",
      "W0601 11:50:39.406080 139750555805440 module_wrapper.py:139] From /compuworks/anaconda3/lib/python3.6/site-packages/keras/backend/tensorflow_backend.py:181: The name tf.ConfigProto is deprecated. Please use tf.compat.v1.ConfigProto instead.\n",
      "\n",
      "W0601 11:50:40.417733 139750555805440 module_wrapper.py:139] From /compuworks/anaconda3/lib/python3.6/site-packages/keras/backend/tensorflow_backend.py:190: The name tf.global_variables is deprecated. Please use tf.compat.v1.global_variables instead.\n",
      "\n",
      "W0601 11:50:40.419326 139750555805440 module_wrapper.py:139] From /compuworks/anaconda3/lib/python3.6/site-packages/keras/backend/tensorflow_backend.py:199: The name tf.is_variable_initialized is deprecated. Please use tf.compat.v1.is_variable_initialized instead.\n",
      "\n",
      "W0601 11:50:40.643563 139750555805440 module_wrapper.py:139] From /compuworks/anaconda3/lib/python3.6/site-packages/keras/backend/tensorflow_backend.py:206: The name tf.variables_initializer is deprecated. Please use tf.compat.v1.variables_initializer instead.\n",
      "\n"
     ]
    },
    {
     "name": "stdout",
     "output_type": "stream",
     "text": [
      "time(s)): 2.801053047180176\n",
      "x_hat_error :  0.12\n",
      "2020-06-01 11:50:41.378118\twindow size k : 1\n",
      "2020-06-01 11:50:41.378195\ttime(s) : 2.801053\n",
      "2020-06-01 11:50:41.378485\tx_hat_error_rate : 0.120000\n",
      "2020-06-01 11:50:41.378516\t\n",
      "k 2\n",
      "time(s)): 1.5087611675262451\n",
      "x_hat_error :  0.12333333333333334\n",
      "2020-06-01 11:50:42.889350\twindow size k : 2\n",
      "2020-06-01 11:50:42.889461\ttime(s) : 1.508761\n",
      "2020-06-01 11:50:42.889779\tx_hat_error_rate : 0.123333\n",
      "2020-06-01 11:50:42.889817\t\n",
      "k 3\n",
      "time(s)): 1.7775640487670898\n",
      "x_hat_error :  0.13\n",
      "2020-06-01 11:50:44.669403\twindow size k : 3\n",
      "2020-06-01 11:50:44.669556\ttime(s) : 1.777564\n",
      "2020-06-01 11:50:44.669952\tx_hat_error_rate : 0.130000\n",
      "2020-06-01 11:50:44.670240\t\n",
      "k 5\n",
      "time(s)): 2.234527349472046\n",
      "x_hat_error :  0.12666666666666668\n",
      "2020-06-01 11:50:46.906658\twindow size k : 5\n",
      "2020-06-01 11:50:46.906733\ttime(s) : 2.234527\n",
      "2020-06-01 11:50:46.907023\tx_hat_error_rate : 0.126667\n",
      "2020-06-01 11:50:46.907083\t\n",
      "k 8\n",
      "time(s)): 2.564574718475342\n",
      "x_hat_error :  0.14333333333333334\n",
      "2020-06-01 11:50:49.474251\twindow size k : 8\n",
      "2020-06-01 11:50:49.474345\ttime(s) : 2.564575\n",
      "2020-06-01 11:50:49.474793\tx_hat_error_rate : 0.143333\n",
      "2020-06-01 11:50:49.474879\t\n",
      "k 10\n",
      "time(s)): 2.5446720123291016\n",
      "x_hat_error :  0.16\n",
      "2020-06-01 11:50:52.022012\twindow size k : 10\n",
      "2020-06-01 11:50:52.022289\ttime(s) : 2.544672\n",
      "2020-06-01 11:50:52.022757\tx_hat_error_rate : 0.160000\n",
      "2020-06-01 11:50:52.022831\t\n",
      "k 15\n",
      "time(s)): 2.8209705352783203\n",
      "x_hat_error :  0.15666666666666668\n",
      "2020-06-01 11:50:54.847813\twindow size k : 15\n",
      "2020-06-01 11:50:54.847873\ttime(s) : 2.820971\n",
      "2020-06-01 11:50:54.848125\tx_hat_error_rate : 0.156667\n",
      "2020-06-01 11:50:54.848155\t\n",
      "k 20\n",
      "time(s)): 3.256004571914673\n",
      "x_hat_error :  0.15333333333333332\n",
      "2020-06-01 11:50:58.106483\twindow size k : 20\n",
      "2020-06-01 11:50:58.106567\ttime(s) : 3.256005\n",
      "2020-06-01 11:50:58.106929\tx_hat_error_rate : 0.153333\n",
      "2020-06-01 11:50:58.107001\t\n",
      "k 30\n",
      "time(s)): 3.5736069679260254\n",
      "x_hat_error :  0.16\n",
      "2020-06-01 11:51:01.683169\twindow size k : 30\n",
      "2020-06-01 11:51:01.683256\ttime(s) : 3.573607\n",
      "2020-06-01 11:51:01.683775\tx_hat_error_rate : 0.160000\n",
      "2020-06-01 11:51:01.684070\t\n",
      "k 50\n",
      "time(s)): 3.6763083934783936\n",
      "x_hat_error :  0.16\n",
      "2020-06-01 11:51:05.362550\twindow size k : 50\n",
      "2020-06-01 11:51:05.362597\ttime(s) : 3.676308\n",
      "2020-06-01 11:51:05.362859\tx_hat_error_rate : 0.160000\n",
      "2020-06-01 11:51:05.362890\t\n"
     ]
    }
   ],
   "source": [
    "k_set = []\n",
    "error_set = []\n",
    "time_set = []\n",
    "\n",
    "for k in [1,2,3,5,8,10,15,20,30,50]:\n",
    "    print('k',k)\n",
    "    \n",
    "    start_time = time.time()  \n",
    "    ###################################################################################\n",
    "    train_x = input_context_without_middle_symbol(noisy_y_denoising, k)\n",
    "    train_y = Z[k:len(Z)-k,]\n",
    "   \n",
    "\n",
    "    y_middle = middle_y(noisy_y_denoising,k) \n",
    "    pdf_vector = p_vector_from_wide_pdf_table(y_middle, pdf_table, nb_x_classes, end)\n",
    "    \n",
    "    \n",
    "    \n",
    "    \n",
    "    #----------------------------Neural Net model------------------------------#\n",
    "    #inputs = layers.Input(shape = (2 * k * nb_z_classes,))  # one hot\n",
    "    inputs = layers.Input(shape = (2 * k,))  # not one hot\n",
    "    layer = layers.Dense(200, kernel_initializer = 'he_normal')(inputs)\n",
    "    layer = layers.Activation('relu')(layer)\n",
    "    layer = layers.Dense(200, kernel_initializer = 'he_normal')(layer)\n",
    "    layer = layers.Activation('relu')(layer)\n",
    "    layer = layers.Dense(200, kernel_initializer = 'he_normal')(layer)\n",
    "    layer = layers.Activation('relu')(layer)\n",
    "    layer = layers.Dense(200, kernel_initializer = 'he_normal')(layer)\n",
    "    layer = layers.Activation('relu')(layer)\n",
    "    layer = layers.Dense(200, kernel_initializer = 'he_normal')(layer)\n",
    "    layer = layers.Activation('relu')(layer)\n",
    "    layer = layers.Dense(200, kernel_initializer = 'he_normal')(layer)\n",
    "    layer = layers.Activation('relu')(layer)\n",
    "    layer = layers.Dense(nb_z_classes , kernel_initializer = 'he_normal')(layer)\n",
    "    outputs = layers.Activation('softmax')(layer)\n",
    "    model = models.Model(inputs = inputs, outputs = outputs)\n",
    "    #--------------------------------------------------------------------------#\n",
    "    \n",
    "    adam = optimizers.Adam(lr=0.001)\n",
    "    model.compile(loss='categorical_crossentropy', optimizer=adam)\n",
    "\n",
    "\n",
    "    \n",
    "    model.fit(train_x,train_y,epochs=epochs,batch_size=batch_size,\n",
    "                     verbose=0, validation_data=(train_x,train_y), shuffle=True)\n",
    "\n",
    "    \n",
    "    pred_prob = model.predict(train_x, batch_size = batch_size, verbose = 0)\n",
    "    \n",
    "    pred_prob_u_0 = pred_prob.dot(PI_inverse)\n",
    "    new_target = pred_prob_u_0 * pdf_vector    \n",
    "    denoised_seq = np.argmin(new_target.dot(loss_matrix),axis=1) \n",
    "    \n",
    "    x_nn_hat_sub= transform_to_wide(denoised_seq, nb_x_classes)\n",
    "    x_hat=np.hstack((quantized_z_denoising[0:k],x_nn_hat_sub,quantized_z_denoising[data_n - k:data_n]))\n",
    "    ###############################################################################################\n",
    "    \n",
    "    duration = time.time() - start_time\n",
    "    print(\"time(s)):\", duration )  \n",
    "    \n",
    "    error_x_hat = error_rate(discrete_x_denoising,x_hat)\n",
    "    print('x_hat_error : ', error_x_hat)\n",
    "\n",
    "    \n",
    "    ################################# save result ################################################ \n",
    "    f = open('./'+experiment_directory_name+'/result_'+file_model+'.txt', 'a')\n",
    "    f.flush()\n",
    "    PRINT(f, 'window size k : %d'%k)\n",
    "    PRINT(f, 'time(s) : %f'%duration)\n",
    "    f.flush()\n",
    "    PRINT(f, 'x_hat_error_rate : %f'%error_x_hat)\n",
    "    PRINT(f, '')\n",
    "\n",
    "    f.flush()\n",
    "    f.close()\n",
    "    \n",
    "    \n",
    "    k_set.append(k)\n",
    "    time_set.append(duration)\n",
    "    error_set.append(error_x_hat)"
   ]
  },
  {
   "cell_type": "code",
   "execution_count": 24,
   "metadata": {},
   "outputs": [],
   "source": [
    "saving_list = {'window_size_k':k_set, 'time':time_set, 'error_rate':error_set, 'error_x_z':error_x_z}\n",
    "saving_list = dict(saving_list)\n",
    "savemat('./'+experiment_directory_name+'/result_'+file_model+'.mat', saving_list)"
   ]
  },
  {
   "cell_type": "code",
   "execution_count": null,
   "metadata": {},
   "outputs": [],
   "source": []
  }
 ],
 "metadata": {
  "kernelspec": {
   "display_name": "Python [conda env:root] *",
   "language": "python",
   "name": "conda-root-py"
  },
  "language_info": {
   "codemirror_mode": {
    "name": "ipython",
    "version": 3
   },
   "file_extension": ".py",
   "mimetype": "text/x-python",
   "name": "python",
   "nbconvert_exporter": "python",
   "pygments_lexer": "ipython3",
   "version": "3.6.6"
  }
 },
 "nbformat": 4,
 "nbformat_minor": 4
}
